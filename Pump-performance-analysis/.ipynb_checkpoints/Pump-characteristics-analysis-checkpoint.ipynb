{
 "cells": [
  {
   "cell_type": "markdown",
   "metadata": {},
   "source": [
    "# Data management project\n",
    "\n",
    "Greetings.\n",
    "\n",
    "In this file, I will try to make a simple analysis of real pump data I made some time ago.\n",
    "I'm going to make graphs, and a conclusion in the end.\n",
    "\n",
    "First of all, I'm going to read data from flow meter calibration."
   ]
  },
  {
   "cell_type": "code",
   "execution_count": 40,
   "metadata": {},
   "outputs": [],
   "source": [
    "import pandas as pd  # importing all the necessary packs for the analysis\n",
    "import numpy as np\n",
    "%matplotlib inline\n",
    "import matplotlib.pyplot as plt\n",
    "import seaborn as sns\n",
    "from scipy.optimize import fmin"
   ]
  },
  {
   "cell_type": "code",
   "execution_count": 41,
   "metadata": {},
   "outputs": [],
   "source": [
    "calibration = pd.read_excel('flow_meter_calibration.xlsx')"
   ]
  },
  {
   "cell_type": "code",
   "execution_count": 42,
   "metadata": {},
   "outputs": [
    {
     "data": {
      "text/html": [
       "<div>\n",
       "<style scoped>\n",
       "    .dataframe tbody tr th:only-of-type {\n",
       "        vertical-align: middle;\n",
       "    }\n",
       "\n",
       "    .dataframe tbody tr th {\n",
       "        vertical-align: top;\n",
       "    }\n",
       "\n",
       "    .dataframe thead th {\n",
       "        text-align: right;\n",
       "    }\n",
       "</style>\n",
       "<table border=\"1\" class=\"dataframe\">\n",
       "  <thead>\n",
       "    <tr style=\"text-align: right;\">\n",
       "      <th></th>\n",
       "      <th>h Mpa</th>\n",
       "      <th>Q m3/h</th>\n",
       "      <th>U V</th>\n",
       "      <th>h m</th>\n",
       "    </tr>\n",
       "  </thead>\n",
       "  <tbody>\n",
       "    <tr>\n",
       "      <th>0</th>\n",
       "      <td>0.075</td>\n",
       "      <td>32.1</td>\n",
       "      <td>0.410</td>\n",
       "      <td>7.5</td>\n",
       "    </tr>\n",
       "    <tr>\n",
       "      <th>1</th>\n",
       "      <td>0.105</td>\n",
       "      <td>29.3</td>\n",
       "      <td>0.373</td>\n",
       "      <td>10.5</td>\n",
       "    </tr>\n",
       "    <tr>\n",
       "      <th>2</th>\n",
       "      <td>0.120</td>\n",
       "      <td>27.2</td>\n",
       "      <td>0.347</td>\n",
       "      <td>12.0</td>\n",
       "    </tr>\n",
       "    <tr>\n",
       "      <th>3</th>\n",
       "      <td>0.138</td>\n",
       "      <td>24.6</td>\n",
       "      <td>0.318</td>\n",
       "      <td>13.8</td>\n",
       "    </tr>\n",
       "    <tr>\n",
       "      <th>4</th>\n",
       "      <td>0.160</td>\n",
       "      <td>21.0</td>\n",
       "      <td>0.271</td>\n",
       "      <td>16.0</td>\n",
       "    </tr>\n",
       "  </tbody>\n",
       "</table>\n",
       "</div>"
      ],
      "text/plain": [
       "   h Mpa  Q m3/h    U V   h m\n",
       "0  0.075    32.1  0.410   7.5\n",
       "1  0.105    29.3  0.373  10.5\n",
       "2  0.120    27.2  0.347  12.0\n",
       "3  0.138    24.6  0.318  13.8\n",
       "4  0.160    21.0  0.271  16.0"
      ]
     },
     "execution_count": 42,
     "metadata": {},
     "output_type": "execute_result"
    }
   ],
   "source": [
    "calibration.head(5)"
   ]
  },
  {
   "cell_type": "code",
   "execution_count": 43,
   "metadata": {},
   "outputs": [
    {
     "data": {
      "text/plain": [
       "(50, 4)"
      ]
     },
     "execution_count": 43,
     "metadata": {},
     "output_type": "execute_result"
    }
   ],
   "source": [
    "calibration.shape"
   ]
  },
  {
   "cell_type": "markdown",
   "metadata": {},
   "source": [
    "Table contains data which were gatered during calibration. h represents pressure, Q - flow rate, U - voltage and another h - head in meters. \n",
    "\n",
    "It's important to make a graph Q(U) and figure out which trendline fits it.\n",
    "\n",
    "Right now the table is not readible, it is important to change name of the columns."
   ]
  },
  {
   "cell_type": "code",
   "execution_count": 44,
   "metadata": {},
   "outputs": [],
   "source": [
    "calibration = calibration.rename(columns={'h Mpa': 'pressure', 'Q m3/h': 'flow_rate', 'U V': 'voltage', 'h m': 'head'})"
   ]
  },
  {
   "cell_type": "code",
   "execution_count": 45,
   "metadata": {},
   "outputs": [
    {
     "data": {
      "text/html": [
       "<div>\n",
       "<style scoped>\n",
       "    .dataframe tbody tr th:only-of-type {\n",
       "        vertical-align: middle;\n",
       "    }\n",
       "\n",
       "    .dataframe tbody tr th {\n",
       "        vertical-align: top;\n",
       "    }\n",
       "\n",
       "    .dataframe thead th {\n",
       "        text-align: right;\n",
       "    }\n",
       "</style>\n",
       "<table border=\"1\" class=\"dataframe\">\n",
       "  <thead>\n",
       "    <tr style=\"text-align: right;\">\n",
       "      <th></th>\n",
       "      <th>pressure</th>\n",
       "      <th>flow_rate</th>\n",
       "      <th>voltage</th>\n",
       "      <th>head</th>\n",
       "    </tr>\n",
       "  </thead>\n",
       "  <tbody>\n",
       "    <tr>\n",
       "      <th>0</th>\n",
       "      <td>0.075</td>\n",
       "      <td>32.1</td>\n",
       "      <td>0.410</td>\n",
       "      <td>7.5</td>\n",
       "    </tr>\n",
       "    <tr>\n",
       "      <th>1</th>\n",
       "      <td>0.105</td>\n",
       "      <td>29.3</td>\n",
       "      <td>0.373</td>\n",
       "      <td>10.5</td>\n",
       "    </tr>\n",
       "    <tr>\n",
       "      <th>2</th>\n",
       "      <td>0.120</td>\n",
       "      <td>27.2</td>\n",
       "      <td>0.347</td>\n",
       "      <td>12.0</td>\n",
       "    </tr>\n",
       "    <tr>\n",
       "      <th>3</th>\n",
       "      <td>0.138</td>\n",
       "      <td>24.6</td>\n",
       "      <td>0.318</td>\n",
       "      <td>13.8</td>\n",
       "    </tr>\n",
       "    <tr>\n",
       "      <th>4</th>\n",
       "      <td>0.160</td>\n",
       "      <td>21.0</td>\n",
       "      <td>0.271</td>\n",
       "      <td>16.0</td>\n",
       "    </tr>\n",
       "  </tbody>\n",
       "</table>\n",
       "</div>"
      ],
      "text/plain": [
       "   pressure  flow_rate  voltage  head\n",
       "0     0.075       32.1    0.410   7.5\n",
       "1     0.105       29.3    0.373  10.5\n",
       "2     0.120       27.2    0.347  12.0\n",
       "3     0.138       24.6    0.318  13.8\n",
       "4     0.160       21.0    0.271  16.0"
      ]
     },
     "execution_count": 45,
     "metadata": {},
     "output_type": "execute_result"
    }
   ],
   "source": [
    "calibration.head(5)"
   ]
  },
  {
   "cell_type": "markdown",
   "metadata": {},
   "source": [
    "It's sure that no data were lost"
   ]
  },
  {
   "cell_type": "code",
   "execution_count": 46,
   "metadata": {},
   "outputs": [
    {
     "data": {
      "text/plain": [
       "(50, 4)"
      ]
     },
     "execution_count": 46,
     "metadata": {},
     "output_type": "execute_result"
    }
   ],
   "source": [
    "calibration.shape"
   ]
  },
  {
   "cell_type": "markdown",
   "metadata": {},
   "source": [
    "It's important also to see data description."
   ]
  },
  {
   "cell_type": "code",
   "execution_count": 47,
   "metadata": {},
   "outputs": [
    {
     "data": {
      "text/html": [
       "<div>\n",
       "<style scoped>\n",
       "    .dataframe tbody tr th:only-of-type {\n",
       "        vertical-align: middle;\n",
       "    }\n",
       "\n",
       "    .dataframe tbody tr th {\n",
       "        vertical-align: top;\n",
       "    }\n",
       "\n",
       "    .dataframe thead th {\n",
       "        text-align: right;\n",
       "    }\n",
       "</style>\n",
       "<table border=\"1\" class=\"dataframe\">\n",
       "  <thead>\n",
       "    <tr style=\"text-align: right;\">\n",
       "      <th></th>\n",
       "      <th>pressure</th>\n",
       "      <th>flow_rate</th>\n",
       "      <th>voltage</th>\n",
       "      <th>head</th>\n",
       "    </tr>\n",
       "  </thead>\n",
       "  <tbody>\n",
       "    <tr>\n",
       "      <th>count</th>\n",
       "      <td>50.000000</td>\n",
       "      <td>50.000000</td>\n",
       "      <td>50.000000</td>\n",
       "      <td>50.000000</td>\n",
       "    </tr>\n",
       "    <tr>\n",
       "      <th>mean</th>\n",
       "      <td>0.166780</td>\n",
       "      <td>17.452000</td>\n",
       "      <td>0.223240</td>\n",
       "      <td>16.678000</td>\n",
       "    </tr>\n",
       "    <tr>\n",
       "      <th>std</th>\n",
       "      <td>0.040484</td>\n",
       "      <td>9.527232</td>\n",
       "      <td>0.123425</td>\n",
       "      <td>4.048395</td>\n",
       "    </tr>\n",
       "    <tr>\n",
       "      <th>min</th>\n",
       "      <td>0.075000</td>\n",
       "      <td>0.000000</td>\n",
       "      <td>0.000000</td>\n",
       "      <td>7.500000</td>\n",
       "    </tr>\n",
       "    <tr>\n",
       "      <th>25%</th>\n",
       "      <td>0.136500</td>\n",
       "      <td>9.275000</td>\n",
       "      <td>0.120250</td>\n",
       "      <td>13.650000</td>\n",
       "    </tr>\n",
       "    <tr>\n",
       "      <th>50%</th>\n",
       "      <td>0.179000</td>\n",
       "      <td>17.850000</td>\n",
       "      <td>0.231500</td>\n",
       "      <td>17.900000</td>\n",
       "    </tr>\n",
       "    <tr>\n",
       "      <th>75%</th>\n",
       "      <td>0.196000</td>\n",
       "      <td>26.000000</td>\n",
       "      <td>0.334500</td>\n",
       "      <td>19.600000</td>\n",
       "    </tr>\n",
       "    <tr>\n",
       "      <th>max</th>\n",
       "      <td>0.230000</td>\n",
       "      <td>32.600000</td>\n",
       "      <td>0.415000</td>\n",
       "      <td>23.000000</td>\n",
       "    </tr>\n",
       "  </tbody>\n",
       "</table>\n",
       "</div>"
      ],
      "text/plain": [
       "        pressure  flow_rate    voltage       head\n",
       "count  50.000000  50.000000  50.000000  50.000000\n",
       "mean    0.166780  17.452000   0.223240  16.678000\n",
       "std     0.040484   9.527232   0.123425   4.048395\n",
       "min     0.075000   0.000000   0.000000   7.500000\n",
       "25%     0.136500   9.275000   0.120250  13.650000\n",
       "50%     0.179000  17.850000   0.231500  17.900000\n",
       "75%     0.196000  26.000000   0.334500  19.600000\n",
       "max     0.230000  32.600000   0.415000  23.000000"
      ]
     },
     "execution_count": 47,
     "metadata": {},
     "output_type": "execute_result"
    }
   ],
   "source": [
    "calibration.describe()"
   ]
  },
  {
   "cell_type": "markdown",
   "metadata": {},
   "source": [
    "Taking into account the fact that we need to use only two columns. It's possible to drop the other two."
   ]
  },
  {
   "cell_type": "code",
   "execution_count": 48,
   "metadata": {},
   "outputs": [],
   "source": [
    "calibration_dep = calibration.drop(['pressure', 'head'], axis=1)"
   ]
  },
  {
   "cell_type": "code",
   "execution_count": 49,
   "metadata": {},
   "outputs": [
    {
     "data": {
      "text/html": [
       "<div>\n",
       "<style scoped>\n",
       "    .dataframe tbody tr th:only-of-type {\n",
       "        vertical-align: middle;\n",
       "    }\n",
       "\n",
       "    .dataframe tbody tr th {\n",
       "        vertical-align: top;\n",
       "    }\n",
       "\n",
       "    .dataframe thead th {\n",
       "        text-align: right;\n",
       "    }\n",
       "</style>\n",
       "<table border=\"1\" class=\"dataframe\">\n",
       "  <thead>\n",
       "    <tr style=\"text-align: right;\">\n",
       "      <th></th>\n",
       "      <th>flow_rate</th>\n",
       "      <th>voltage</th>\n",
       "    </tr>\n",
       "  </thead>\n",
       "  <tbody>\n",
       "    <tr>\n",
       "      <th>0</th>\n",
       "      <td>32.1</td>\n",
       "      <td>0.410</td>\n",
       "    </tr>\n",
       "    <tr>\n",
       "      <th>1</th>\n",
       "      <td>29.3</td>\n",
       "      <td>0.373</td>\n",
       "    </tr>\n",
       "    <tr>\n",
       "      <th>2</th>\n",
       "      <td>27.2</td>\n",
       "      <td>0.347</td>\n",
       "    </tr>\n",
       "    <tr>\n",
       "      <th>3</th>\n",
       "      <td>24.6</td>\n",
       "      <td>0.318</td>\n",
       "    </tr>\n",
       "    <tr>\n",
       "      <th>4</th>\n",
       "      <td>21.0</td>\n",
       "      <td>0.271</td>\n",
       "    </tr>\n",
       "  </tbody>\n",
       "</table>\n",
       "</div>"
      ],
      "text/plain": [
       "   flow_rate  voltage\n",
       "0       32.1    0.410\n",
       "1       29.3    0.373\n",
       "2       27.2    0.347\n",
       "3       24.6    0.318\n",
       "4       21.0    0.271"
      ]
     },
     "execution_count": 49,
     "metadata": {},
     "output_type": "execute_result"
    }
   ],
   "source": [
    "calibration_dep.head(5)"
   ]
  },
  {
   "cell_type": "code",
   "execution_count": 50,
   "metadata": {},
   "outputs": [
    {
     "data": {
      "text/plain": [
       "(50, 2)"
      ]
     },
     "execution_count": 50,
     "metadata": {},
     "output_type": "execute_result"
    }
   ],
   "source": [
    "calibration_dep.shape"
   ]
  },
  {
   "cell_type": "code",
   "execution_count": 51,
   "metadata": {
    "scrolled": false
   },
   "outputs": [
    {
     "data": {
      "text/plain": [
       "<matplotlib.axes._subplots.AxesSubplot at 0x21a5981dfd0>"
      ]
     },
     "execution_count": 51,
     "metadata": {},
     "output_type": "execute_result"
    },
    {
     "data": {
      "image/png": "[encoded data removed]",
      "text/plain": [
       "<Figure size 842.4x595.44 with 1 Axes>"
      ]
     },
     "metadata": {
      "needs_background": "light"
     },
     "output_type": "display_data"
    }
   ],
   "source": [
    "a4_dims = (11.7, 8.27)  # addint the dimentions that will be used for the plot\n",
    "fig, ax = plt.subplots(figsize=a4_dims)\n",
    "sns.regplot(data=calibration_dep, x='flow_rate', y='voltage', ax=ax, color='blue')"
   ]
  },
  {
   "cell_type": "markdown",
   "metadata": {},
   "source": [
    "It is possible to visually estimate that the dependency between those values is linear. \n",
    "\n",
    "Matplotlib and seaborn packages doesn't allow you to gather trendline equation. But it's very important to have, and this is the next step."
   ]
  },
  {
   "cell_type": "code",
   "execution_count": 52,
   "metadata": {},
   "outputs": [],
   "source": [
    "flow_rate = calibration_dep['flow_rate']  # creating variables for each column\n",
    "voltage = calibration_dep['voltage']"
   ]
  },
  {
   "cell_type": "code",
   "execution_count": 53,
   "metadata": {},
   "outputs": [
    {
     "name": "stdout",
     "output_type": "stream",
     "text": [
      "Optimization terminated successfully.\n",
      "         Current function value: 0.120344\n",
      "         Iterations: 64\n",
      "         Function evaluations: 122\n"
     ]
    },
    {
     "data": {
      "image/png": "[encoded data removed]",
      "text/plain": [
       "<Figure size 1080x648 with 1 Axes>"
      ]
     },
     "metadata": {
      "needs_background": "light"
     },
     "output_type": "display_data"
    },
    {
     "name": "stdout",
     "output_type": "stream",
     "text": [
      "The best solution is:  [  77.45035343 -853.27399559] ,\n",
      "and corresponding value of the objective function is:  0.1203442510429103\n"
     ]
    }
   ],
   "source": [
    "x = np.linspace(start = flow_rate.min(), stop = flow_rate.max(), num = 100)\n",
    "\n",
    "def linear_model(x, pars):\n",
    "    a, b = pars   # unpack model parameters\n",
    "    return a*x + b    # linear function equation\n",
    "\n",
    "def Q(pars, model, dataset):\n",
    "    a, b = pars        # unpack parameters\n",
    "    xdata, ydata = calibration_dep['flow_rate'], calibration_dep['voltage']  # unpack dataset\n",
    "    ypred = model(xdata, pars)  # calculate model predictions for all data\n",
    "    return sum(abs(ydata - ypred))\n",
    "\n",
    "\n",
    "pars_init = np.random.uniform(-1,1, size=2)  # nearest neighbor search\n",
    "pars_best = fmin(Q, pars_init, args=(linear_model, calibration_dep))\n",
    "plt.figure(figsize=(15, 9))\n",
    "\n",
    "plt.plot(flow_rate, voltage, 'o', label='data')\n",
    "plt.ylim([0, voltage.max() + 0.04])\n",
    "plt.plot(x, linear_model(x, pars_best), label='model')\n",
    "\n",
    "plt.xlabel('flow_rate', fontsize=14)\n",
    "plt.ylabel('voltage', fontsize=14)\n",
    "plt.legend(loc='lower right')\n",
    "# see the file in the current directory!\n",
    "plt.savefig('my_fig.png', dpi=500)   \n",
    "plt.show()\n",
    "\n",
    "print('The best solution is: ', (1/pars_best), ',\\nand corresponding value of the objective function is: ', Q(pars_best, linear_model, calibration_dep))"
   ]
  },
  {
   "cell_type": "markdown",
   "metadata": {},
   "source": [
    "The coefficient we need for the following calculations is 77.4."
   ]
  },
  {
   "cell_type": "code",
   "execution_count": 54,
   "metadata": {},
   "outputs": [],
   "source": [
    "q_v_coef = 77.44176794"
   ]
  },
  {
   "cell_type": "markdown",
   "metadata": {},
   "source": [
    "# Experiment data management\n",
    "\n",
    "Let's open experiment.xlsx and get to know the data."
   ]
  },
  {
   "cell_type": "code",
   "execution_count": 55,
   "metadata": {},
   "outputs": [],
   "source": [
    "experiment_data = pd.read_excel('experiment.xlsx')"
   ]
  },
  {
   "cell_type": "code",
   "execution_count": 56,
   "metadata": {},
   "outputs": [
    {
     "data": {
      "text/html": [
       "<div>\n",
       "<style scoped>\n",
       "    .dataframe tbody tr th:only-of-type {\n",
       "        vertical-align: middle;\n",
       "    }\n",
       "\n",
       "    .dataframe tbody tr th {\n",
       "        vertical-align: top;\n",
       "    }\n",
       "\n",
       "    .dataframe thead th {\n",
       "        text-align: right;\n",
       "    }\n",
       "</style>\n",
       "<table border=\"1\" class=\"dataframe\">\n",
       "  <thead>\n",
       "    <tr style=\"text-align: right;\">\n",
       "      <th></th>\n",
       "      <th>N_o Exp</th>\n",
       "      <th>V mV</th>\n",
       "      <th>P_in MPa</th>\n",
       "      <th>P_out MPa</th>\n",
       "      <th>N kW</th>\n",
       "    </tr>\n",
       "  </thead>\n",
       "  <tbody>\n",
       "    <tr>\n",
       "      <th>0</th>\n",
       "      <td>1</td>\n",
       "      <td>0.00</td>\n",
       "      <td>0.025</td>\n",
       "      <td>0.248</td>\n",
       "      <td>0.509</td>\n",
       "    </tr>\n",
       "    <tr>\n",
       "      <th>1</th>\n",
       "      <td>2</td>\n",
       "      <td>16.40</td>\n",
       "      <td>0.025</td>\n",
       "      <td>0.243</td>\n",
       "      <td>0.525</td>\n",
       "    </tr>\n",
       "    <tr>\n",
       "      <th>2</th>\n",
       "      <td>3</td>\n",
       "      <td>32.78</td>\n",
       "      <td>0.024</td>\n",
       "      <td>0.245</td>\n",
       "      <td>0.551</td>\n",
       "    </tr>\n",
       "    <tr>\n",
       "      <th>3</th>\n",
       "      <td>4</td>\n",
       "      <td>49.60</td>\n",
       "      <td>0.024</td>\n",
       "      <td>0.244</td>\n",
       "      <td>0.583</td>\n",
       "    </tr>\n",
       "    <tr>\n",
       "      <th>4</th>\n",
       "      <td>5</td>\n",
       "      <td>65.54</td>\n",
       "      <td>0.024</td>\n",
       "      <td>0.243</td>\n",
       "      <td>0.619</td>\n",
       "    </tr>\n",
       "  </tbody>\n",
       "</table>\n",
       "</div>"
      ],
      "text/plain": [
       "   N_o Exp   V mV  P_in MPa  P_out MPa   N kW\n",
       "0        1   0.00     0.025      0.248  0.509\n",
       "1        2  16.40     0.025      0.243  0.525\n",
       "2        3  32.78     0.024      0.245  0.551\n",
       "3        4  49.60     0.024      0.244  0.583\n",
       "4        5  65.54     0.024      0.243  0.619"
      ]
     },
     "execution_count": 56,
     "metadata": {},
     "output_type": "execute_result"
    }
   ],
   "source": [
    "experiment_data.head(5)"
   ]
  },
  {
   "cell_type": "code",
   "execution_count": 57,
   "metadata": {},
   "outputs": [
    {
     "data": {
      "text/plain": [
       "(44, 5)"
      ]
     },
     "execution_count": 57,
     "metadata": {},
     "output_type": "execute_result"
    }
   ],
   "source": [
    "experiment_data.shape"
   ]
  },
  {
   "cell_type": "markdown",
   "metadata": {},
   "source": [
    "In order not to forget the dimension of each value it will be added to the new name that is more readable."
   ]
  },
  {
   "cell_type": "code",
   "execution_count": 58,
   "metadata": {},
   "outputs": [],
   "source": [
    "experiment_data = experiment_data.rename(columns={'N_o Exp': 'exp_number', \n",
    "                                                  'V mV': 'voltage_mv',\n",
    "                                                  'P_in MPa': 'pressure_in_mpa',\n",
    "                                                  'P_out MPa': 'pressure_out_mpa',\n",
    "                                                  'N kW': 'power_kw'}).set_index('exp_number')"
   ]
  },
  {
   "cell_type": "code",
   "execution_count": 59,
   "metadata": {},
   "outputs": [
    {
     "data": {
      "text/html": [
       "<div>\n",
       "<style scoped>\n",
       "    .dataframe tbody tr th:only-of-type {\n",
       "        vertical-align: middle;\n",
       "    }\n",
       "\n",
       "    .dataframe tbody tr th {\n",
       "        vertical-align: top;\n",
       "    }\n",
       "\n",
       "    .dataframe thead th {\n",
       "        text-align: right;\n",
       "    }\n",
       "</style>\n",
       "<table border=\"1\" class=\"dataframe\">\n",
       "  <thead>\n",
       "    <tr style=\"text-align: right;\">\n",
       "      <th></th>\n",
       "      <th>voltage_mv</th>\n",
       "      <th>pressure_in_mpa</th>\n",
       "      <th>pressure_out_mpa</th>\n",
       "      <th>power_kw</th>\n",
       "    </tr>\n",
       "    <tr>\n",
       "      <th>exp_number</th>\n",
       "      <th></th>\n",
       "      <th></th>\n",
       "      <th></th>\n",
       "      <th></th>\n",
       "    </tr>\n",
       "  </thead>\n",
       "  <tbody>\n",
       "    <tr>\n",
       "      <th>1</th>\n",
       "      <td>0.00</td>\n",
       "      <td>0.025</td>\n",
       "      <td>0.248</td>\n",
       "      <td>0.509</td>\n",
       "    </tr>\n",
       "    <tr>\n",
       "      <th>2</th>\n",
       "      <td>16.40</td>\n",
       "      <td>0.025</td>\n",
       "      <td>0.243</td>\n",
       "      <td>0.525</td>\n",
       "    </tr>\n",
       "    <tr>\n",
       "      <th>3</th>\n",
       "      <td>32.78</td>\n",
       "      <td>0.024</td>\n",
       "      <td>0.245</td>\n",
       "      <td>0.551</td>\n",
       "    </tr>\n",
       "    <tr>\n",
       "      <th>4</th>\n",
       "      <td>49.60</td>\n",
       "      <td>0.024</td>\n",
       "      <td>0.244</td>\n",
       "      <td>0.583</td>\n",
       "    </tr>\n",
       "    <tr>\n",
       "      <th>5</th>\n",
       "      <td>65.54</td>\n",
       "      <td>0.024</td>\n",
       "      <td>0.243</td>\n",
       "      <td>0.619</td>\n",
       "    </tr>\n",
       "  </tbody>\n",
       "</table>\n",
       "</div>"
      ],
      "text/plain": [
       "            voltage_mv  pressure_in_mpa  pressure_out_mpa  power_kw\n",
       "exp_number                                                         \n",
       "1                 0.00            0.025             0.248     0.509\n",
       "2                16.40            0.025             0.243     0.525\n",
       "3                32.78            0.024             0.245     0.551\n",
       "4                49.60            0.024             0.244     0.583\n",
       "5                65.54            0.024             0.243     0.619"
      ]
     },
     "execution_count": 59,
     "metadata": {},
     "output_type": "execute_result"
    }
   ],
   "source": [
    "experiment_data.head()"
   ]
  },
  {
   "cell_type": "markdown",
   "metadata": {},
   "source": [
    "Recalculation voltage into [V], flow rate Q and pressure into [Pa] is needed. For the flow rate calculation, coefficient from calbiration line will be used."
   ]
  },
  {
   "cell_type": "code",
   "execution_count": 60,
   "metadata": {},
   "outputs": [],
   "source": [
    "experiment_data['voltage_v'] = experiment_data.voltage_mv / 1000\n",
    "experiment_data['flow_rate_m3h'] = experiment_data.voltage_v * q_v_coef  # flow rate in [m**3/hr]\n",
    "experiment_data['flow_rate_m3s'] = experiment_data.flow_rate_m3h / 3600  # flow rate in [m**3/s]\n",
    "experiment_data['pressure_in_pa'] = experiment_data.pressure_in_mpa * 1000000\n",
    "experiment_data['pressure_out_pa'] = experiment_data.pressure_out_mpa * 1000000"
   ]
  },
  {
   "cell_type": "code",
   "execution_count": 61,
   "metadata": {},
   "outputs": [
    {
     "data": {
      "text/html": [
       "<div>\n",
       "<style scoped>\n",
       "    .dataframe tbody tr th:only-of-type {\n",
       "        vertical-align: middle;\n",
       "    }\n",
       "\n",
       "    .dataframe tbody tr th {\n",
       "        vertical-align: top;\n",
       "    }\n",
       "\n",
       "    .dataframe thead th {\n",
       "        text-align: right;\n",
       "    }\n",
       "</style>\n",
       "<table border=\"1\" class=\"dataframe\">\n",
       "  <thead>\n",
       "    <tr style=\"text-align: right;\">\n",
       "      <th></th>\n",
       "      <th>voltage_mv</th>\n",
       "      <th>pressure_in_mpa</th>\n",
       "      <th>pressure_out_mpa</th>\n",
       "      <th>power_kw</th>\n",
       "      <th>voltage_v</th>\n",
       "      <th>flow_rate_m3h</th>\n",
       "      <th>flow_rate_m3s</th>\n",
       "      <th>pressure_in_pa</th>\n",
       "      <th>pressure_out_pa</th>\n",
       "    </tr>\n",
       "    <tr>\n",
       "      <th>exp_number</th>\n",
       "      <th></th>\n",
       "      <th></th>\n",
       "      <th></th>\n",
       "      <th></th>\n",
       "      <th></th>\n",
       "      <th></th>\n",
       "      <th></th>\n",
       "      <th></th>\n",
       "      <th></th>\n",
       "    </tr>\n",
       "  </thead>\n",
       "  <tbody>\n",
       "    <tr>\n",
       "      <th>1</th>\n",
       "      <td>0.00</td>\n",
       "      <td>0.025</td>\n",
       "      <td>0.248</td>\n",
       "      <td>0.509</td>\n",
       "      <td>0.00000</td>\n",
       "      <td>0.000000</td>\n",
       "      <td>0.000000</td>\n",
       "      <td>25000.0</td>\n",
       "      <td>248000.0</td>\n",
       "    </tr>\n",
       "    <tr>\n",
       "      <th>2</th>\n",
       "      <td>16.40</td>\n",
       "      <td>0.025</td>\n",
       "      <td>0.243</td>\n",
       "      <td>0.525</td>\n",
       "      <td>0.01640</td>\n",
       "      <td>1.270045</td>\n",
       "      <td>0.000353</td>\n",
       "      <td>25000.0</td>\n",
       "      <td>243000.0</td>\n",
       "    </tr>\n",
       "    <tr>\n",
       "      <th>3</th>\n",
       "      <td>32.78</td>\n",
       "      <td>0.024</td>\n",
       "      <td>0.245</td>\n",
       "      <td>0.551</td>\n",
       "      <td>0.03278</td>\n",
       "      <td>2.538541</td>\n",
       "      <td>0.000705</td>\n",
       "      <td>24000.0</td>\n",
       "      <td>245000.0</td>\n",
       "    </tr>\n",
       "    <tr>\n",
       "      <th>4</th>\n",
       "      <td>49.60</td>\n",
       "      <td>0.024</td>\n",
       "      <td>0.244</td>\n",
       "      <td>0.583</td>\n",
       "      <td>0.04960</td>\n",
       "      <td>3.841112</td>\n",
       "      <td>0.001067</td>\n",
       "      <td>24000.0</td>\n",
       "      <td>244000.0</td>\n",
       "    </tr>\n",
       "    <tr>\n",
       "      <th>5</th>\n",
       "      <td>65.54</td>\n",
       "      <td>0.024</td>\n",
       "      <td>0.243</td>\n",
       "      <td>0.619</td>\n",
       "      <td>0.06554</td>\n",
       "      <td>5.075533</td>\n",
       "      <td>0.001410</td>\n",
       "      <td>24000.0</td>\n",
       "      <td>243000.0</td>\n",
       "    </tr>\n",
       "  </tbody>\n",
       "</table>\n",
       "</div>"
      ],
      "text/plain": [
       "            voltage_mv  pressure_in_mpa  pressure_out_mpa  power_kw  \\\n",
       "exp_number                                                            \n",
       "1                 0.00            0.025             0.248     0.509   \n",
       "2                16.40            0.025             0.243     0.525   \n",
       "3                32.78            0.024             0.245     0.551   \n",
       "4                49.60            0.024             0.244     0.583   \n",
       "5                65.54            0.024             0.243     0.619   \n",
       "\n",
       "            voltage_v  flow_rate_m3h  flow_rate_m3s  pressure_in_pa  \\\n",
       "exp_number                                                            \n",
       "1             0.00000       0.000000       0.000000         25000.0   \n",
       "2             0.01640       1.270045       0.000353         25000.0   \n",
       "3             0.03278       2.538541       0.000705         24000.0   \n",
       "4             0.04960       3.841112       0.001067         24000.0   \n",
       "5             0.06554       5.075533       0.001410         24000.0   \n",
       "\n",
       "            pressure_out_pa  \n",
       "exp_number                   \n",
       "1                  248000.0  \n",
       "2                  243000.0  \n",
       "3                  245000.0  \n",
       "4                  244000.0  \n",
       "5                  243000.0  "
      ]
     },
     "execution_count": 61,
     "metadata": {},
     "output_type": "execute_result"
    }
   ],
   "source": [
    "experiment_data.head(5)"
   ]
  },
  {
   "cell_type": "markdown",
   "metadata": {},
   "source": [
    "Because for the mesurements transformer from 10 to 5 A were used it is important to recalculate power to its real value."
   ]
  },
  {
   "cell_type": "code",
   "execution_count": 62,
   "metadata": {},
   "outputs": [],
   "source": [
    "experiment_data['power_w'] = experiment_data.power_kw * 1000 * 2\n",
    "experiment_data = experiment_data.drop('power_kw', axis=1)"
   ]
  },
  {
   "cell_type": "code",
   "execution_count": 63,
   "metadata": {},
   "outputs": [
    {
     "data": {
      "text/html": [
       "<div>\n",
       "<style scoped>\n",
       "    .dataframe tbody tr th:only-of-type {\n",
       "        vertical-align: middle;\n",
       "    }\n",
       "\n",
       "    .dataframe tbody tr th {\n",
       "        vertical-align: top;\n",
       "    }\n",
       "\n",
       "    .dataframe thead th {\n",
       "        text-align: right;\n",
       "    }\n",
       "</style>\n",
       "<table border=\"1\" class=\"dataframe\">\n",
       "  <thead>\n",
       "    <tr style=\"text-align: right;\">\n",
       "      <th></th>\n",
       "      <th>voltage_mv</th>\n",
       "      <th>pressure_in_mpa</th>\n",
       "      <th>pressure_out_mpa</th>\n",
       "      <th>voltage_v</th>\n",
       "      <th>flow_rate_m3h</th>\n",
       "      <th>flow_rate_m3s</th>\n",
       "      <th>pressure_in_pa</th>\n",
       "      <th>pressure_out_pa</th>\n",
       "      <th>power_w</th>\n",
       "    </tr>\n",
       "    <tr>\n",
       "      <th>exp_number</th>\n",
       "      <th></th>\n",
       "      <th></th>\n",
       "      <th></th>\n",
       "      <th></th>\n",
       "      <th></th>\n",
       "      <th></th>\n",
       "      <th></th>\n",
       "      <th></th>\n",
       "      <th></th>\n",
       "    </tr>\n",
       "  </thead>\n",
       "  <tbody>\n",
       "    <tr>\n",
       "      <th>1</th>\n",
       "      <td>0.00</td>\n",
       "      <td>0.025</td>\n",
       "      <td>0.248</td>\n",
       "      <td>0.00000</td>\n",
       "      <td>0.000000</td>\n",
       "      <td>0.000000</td>\n",
       "      <td>25000.0</td>\n",
       "      <td>248000.0</td>\n",
       "      <td>1018.0</td>\n",
       "    </tr>\n",
       "    <tr>\n",
       "      <th>2</th>\n",
       "      <td>16.40</td>\n",
       "      <td>0.025</td>\n",
       "      <td>0.243</td>\n",
       "      <td>0.01640</td>\n",
       "      <td>1.270045</td>\n",
       "      <td>0.000353</td>\n",
       "      <td>25000.0</td>\n",
       "      <td>243000.0</td>\n",
       "      <td>1050.0</td>\n",
       "    </tr>\n",
       "    <tr>\n",
       "      <th>3</th>\n",
       "      <td>32.78</td>\n",
       "      <td>0.024</td>\n",
       "      <td>0.245</td>\n",
       "      <td>0.03278</td>\n",
       "      <td>2.538541</td>\n",
       "      <td>0.000705</td>\n",
       "      <td>24000.0</td>\n",
       "      <td>245000.0</td>\n",
       "      <td>1102.0</td>\n",
       "    </tr>\n",
       "    <tr>\n",
       "      <th>4</th>\n",
       "      <td>49.60</td>\n",
       "      <td>0.024</td>\n",
       "      <td>0.244</td>\n",
       "      <td>0.04960</td>\n",
       "      <td>3.841112</td>\n",
       "      <td>0.001067</td>\n",
       "      <td>24000.0</td>\n",
       "      <td>244000.0</td>\n",
       "      <td>1166.0</td>\n",
       "    </tr>\n",
       "    <tr>\n",
       "      <th>5</th>\n",
       "      <td>65.54</td>\n",
       "      <td>0.024</td>\n",
       "      <td>0.243</td>\n",
       "      <td>0.06554</td>\n",
       "      <td>5.075533</td>\n",
       "      <td>0.001410</td>\n",
       "      <td>24000.0</td>\n",
       "      <td>243000.0</td>\n",
       "      <td>1238.0</td>\n",
       "    </tr>\n",
       "  </tbody>\n",
       "</table>\n",
       "</div>"
      ],
      "text/plain": [
       "            voltage_mv  pressure_in_mpa  pressure_out_mpa  voltage_v  \\\n",
       "exp_number                                                             \n",
       "1                 0.00            0.025             0.248    0.00000   \n",
       "2                16.40            0.025             0.243    0.01640   \n",
       "3                32.78            0.024             0.245    0.03278   \n",
       "4                49.60            0.024             0.244    0.04960   \n",
       "5                65.54            0.024             0.243    0.06554   \n",
       "\n",
       "            flow_rate_m3h  flow_rate_m3s  pressure_in_pa  pressure_out_pa  \\\n",
       "exp_number                                                                  \n",
       "1                0.000000       0.000000         25000.0         248000.0   \n",
       "2                1.270045       0.000353         25000.0         243000.0   \n",
       "3                2.538541       0.000705         24000.0         245000.0   \n",
       "4                3.841112       0.001067         24000.0         244000.0   \n",
       "5                5.075533       0.001410         24000.0         243000.0   \n",
       "\n",
       "            power_w  \n",
       "exp_number           \n",
       "1            1018.0  \n",
       "2            1050.0  \n",
       "3            1102.0  \n",
       "4            1166.0  \n",
       "5            1238.0  "
      ]
     },
     "execution_count": 63,
     "metadata": {},
     "output_type": "execute_result"
    }
   ],
   "source": [
    "experiment_data.head()"
   ]
  },
  {
   "cell_type": "markdown",
   "metadata": {},
   "source": [
    "To calculate the head using the Bernoulli equation, it is necessary to calculate the speeds С1 and C2"
   ]
  },
  {
   "cell_type": "code",
   "execution_count": 64,
   "metadata": {},
   "outputs": [],
   "source": [
    "d_in = 0.065  # inlet pipe diameter in [m]\n",
    "d_out = 0.04  # outlite pipe diameter in [m]\n",
    "density = 1000  # water density [kg/m**3]\n",
    "grav_accel = 9.81  # gravitational acceliration [m/s**2]\n",
    "eta_el_mot = 0.851  # motor efficiency"
   ]
  },
  {
   "cell_type": "code",
   "execution_count": 65,
   "metadata": {},
   "outputs": [],
   "source": [
    "experiment_data['c1_ms'] = experiment_data.flow_rate_m3s / ((np.pi * d_in**2) / 4)  # velocity of the liquid in the inlet pipe [m/s]\n",
    "experiment_data['c2_ms'] = experiment_data.flow_rate_m3s / ((np.pi * d_out**2) / 4)"
   ]
  },
  {
   "cell_type": "code",
   "execution_count": 66,
   "metadata": {},
   "outputs": [
    {
     "data": {
      "text/html": [
       "<div>\n",
       "<style scoped>\n",
       "    .dataframe tbody tr th:only-of-type {\n",
       "        vertical-align: middle;\n",
       "    }\n",
       "\n",
       "    .dataframe tbody tr th {\n",
       "        vertical-align: top;\n",
       "    }\n",
       "\n",
       "    .dataframe thead th {\n",
       "        text-align: right;\n",
       "    }\n",
       "</style>\n",
       "<table border=\"1\" class=\"dataframe\">\n",
       "  <thead>\n",
       "    <tr style=\"text-align: right;\">\n",
       "      <th></th>\n",
       "      <th>voltage_mv</th>\n",
       "      <th>pressure_in_mpa</th>\n",
       "      <th>pressure_out_mpa</th>\n",
       "      <th>voltage_v</th>\n",
       "      <th>flow_rate_m3h</th>\n",
       "      <th>flow_rate_m3s</th>\n",
       "      <th>pressure_in_pa</th>\n",
       "      <th>pressure_out_pa</th>\n",
       "      <th>power_w</th>\n",
       "      <th>c1_ms</th>\n",
       "      <th>c2_ms</th>\n",
       "    </tr>\n",
       "    <tr>\n",
       "      <th>exp_number</th>\n",
       "      <th></th>\n",
       "      <th></th>\n",
       "      <th></th>\n",
       "      <th></th>\n",
       "      <th></th>\n",
       "      <th></th>\n",
       "      <th></th>\n",
       "      <th></th>\n",
       "      <th></th>\n",
       "      <th></th>\n",
       "      <th></th>\n",
       "    </tr>\n",
       "  </thead>\n",
       "  <tbody>\n",
       "    <tr>\n",
       "      <th>1</th>\n",
       "      <td>0.00</td>\n",
       "      <td>0.025</td>\n",
       "      <td>0.248</td>\n",
       "      <td>0.00000</td>\n",
       "      <td>0.000000</td>\n",
       "      <td>0.000000</td>\n",
       "      <td>25000.0</td>\n",
       "      <td>248000.0</td>\n",
       "      <td>1018.0</td>\n",
       "      <td>0.000000</td>\n",
       "      <td>0.000000</td>\n",
       "    </tr>\n",
       "    <tr>\n",
       "      <th>2</th>\n",
       "      <td>16.40</td>\n",
       "      <td>0.025</td>\n",
       "      <td>0.243</td>\n",
       "      <td>0.01640</td>\n",
       "      <td>1.270045</td>\n",
       "      <td>0.000353</td>\n",
       "      <td>25000.0</td>\n",
       "      <td>243000.0</td>\n",
       "      <td>1050.0</td>\n",
       "      <td>0.106316</td>\n",
       "      <td>0.280742</td>\n",
       "    </tr>\n",
       "    <tr>\n",
       "      <th>3</th>\n",
       "      <td>32.78</td>\n",
       "      <td>0.024</td>\n",
       "      <td>0.245</td>\n",
       "      <td>0.03278</td>\n",
       "      <td>2.538541</td>\n",
       "      <td>0.000705</td>\n",
       "      <td>24000.0</td>\n",
       "      <td>245000.0</td>\n",
       "      <td>1102.0</td>\n",
       "      <td>0.212503</td>\n",
       "      <td>0.561141</td>\n",
       "    </tr>\n",
       "    <tr>\n",
       "      <th>4</th>\n",
       "      <td>49.60</td>\n",
       "      <td>0.024</td>\n",
       "      <td>0.244</td>\n",
       "      <td>0.04960</td>\n",
       "      <td>3.841112</td>\n",
       "      <td>0.001067</td>\n",
       "      <td>24000.0</td>\n",
       "      <td>244000.0</td>\n",
       "      <td>1166.0</td>\n",
       "      <td>0.321542</td>\n",
       "      <td>0.849072</td>\n",
       "    </tr>\n",
       "    <tr>\n",
       "      <th>5</th>\n",
       "      <td>65.54</td>\n",
       "      <td>0.024</td>\n",
       "      <td>0.243</td>\n",
       "      <td>0.06554</td>\n",
       "      <td>5.075533</td>\n",
       "      <td>0.001410</td>\n",
       "      <td>24000.0</td>\n",
       "      <td>243000.0</td>\n",
       "      <td>1238.0</td>\n",
       "      <td>0.424876</td>\n",
       "      <td>1.121939</td>\n",
       "    </tr>\n",
       "  </tbody>\n",
       "</table>\n",
       "</div>"
      ],
      "text/plain": [
       "            voltage_mv  pressure_in_mpa  pressure_out_mpa  voltage_v  \\\n",
       "exp_number                                                             \n",
       "1                 0.00            0.025             0.248    0.00000   \n",
       "2                16.40            0.025             0.243    0.01640   \n",
       "3                32.78            0.024             0.245    0.03278   \n",
       "4                49.60            0.024             0.244    0.04960   \n",
       "5                65.54            0.024             0.243    0.06554   \n",
       "\n",
       "            flow_rate_m3h  flow_rate_m3s  pressure_in_pa  pressure_out_pa  \\\n",
       "exp_number                                                                  \n",
       "1                0.000000       0.000000         25000.0         248000.0   \n",
       "2                1.270045       0.000353         25000.0         243000.0   \n",
       "3                2.538541       0.000705         24000.0         245000.0   \n",
       "4                3.841112       0.001067         24000.0         244000.0   \n",
       "5                5.075533       0.001410         24000.0         243000.0   \n",
       "\n",
       "            power_w     c1_ms     c2_ms  \n",
       "exp_number                               \n",
       "1            1018.0  0.000000  0.000000  \n",
       "2            1050.0  0.106316  0.280742  \n",
       "3            1102.0  0.212503  0.561141  \n",
       "4            1166.0  0.321542  0.849072  \n",
       "5            1238.0  0.424876  1.121939  "
      ]
     },
     "execution_count": 66,
     "metadata": {},
     "output_type": "execute_result"
    }
   ],
   "source": [
    "experiment_data.head()"
   ]
  },
  {
   "cell_type": "markdown",
   "metadata": {},
   "source": [
    "Now it's possible to appy Bernoulli's equation and calculate value of head for each experiment"
   ]
  },
  {
   "cell_type": "code",
   "execution_count": 67,
   "metadata": {},
   "outputs": [],
   "source": [
    "experiment_data['head_m'] = ((experiment_data.pressure_out_pa - experiment_data.pressure_in_pa) / (density * grav_accel)) + \\\n",
    "                            ((experiment_data.c2_ms**2 - experiment_data.c1_ms**2) / (2 * grav_accel))\n",
    "                            "
   ]
  },
  {
   "cell_type": "code",
   "execution_count": 68,
   "metadata": {},
   "outputs": [
    {
     "data": {
      "text/html": [
       "<div>\n",
       "<style scoped>\n",
       "    .dataframe tbody tr th:only-of-type {\n",
       "        vertical-align: middle;\n",
       "    }\n",
       "\n",
       "    .dataframe tbody tr th {\n",
       "        vertical-align: top;\n",
       "    }\n",
       "\n",
       "    .dataframe thead th {\n",
       "        text-align: right;\n",
       "    }\n",
       "</style>\n",
       "<table border=\"1\" class=\"dataframe\">\n",
       "  <thead>\n",
       "    <tr style=\"text-align: right;\">\n",
       "      <th></th>\n",
       "      <th>voltage_mv</th>\n",
       "      <th>pressure_in_mpa</th>\n",
       "      <th>pressure_out_mpa</th>\n",
       "      <th>voltage_v</th>\n",
       "      <th>flow_rate_m3h</th>\n",
       "      <th>flow_rate_m3s</th>\n",
       "      <th>pressure_in_pa</th>\n",
       "      <th>pressure_out_pa</th>\n",
       "      <th>power_w</th>\n",
       "      <th>c1_ms</th>\n",
       "      <th>c2_ms</th>\n",
       "      <th>head_m</th>\n",
       "    </tr>\n",
       "    <tr>\n",
       "      <th>exp_number</th>\n",
       "      <th></th>\n",
       "      <th></th>\n",
       "      <th></th>\n",
       "      <th></th>\n",
       "      <th></th>\n",
       "      <th></th>\n",
       "      <th></th>\n",
       "      <th></th>\n",
       "      <th></th>\n",
       "      <th></th>\n",
       "      <th></th>\n",
       "      <th></th>\n",
       "    </tr>\n",
       "  </thead>\n",
       "  <tbody>\n",
       "    <tr>\n",
       "      <th>1</th>\n",
       "      <td>0.00</td>\n",
       "      <td>0.025</td>\n",
       "      <td>0.248</td>\n",
       "      <td>0.00000</td>\n",
       "      <td>0.000000</td>\n",
       "      <td>0.000000</td>\n",
       "      <td>25000.0</td>\n",
       "      <td>248000.0</td>\n",
       "      <td>1018.0</td>\n",
       "      <td>0.000000</td>\n",
       "      <td>0.000000</td>\n",
       "      <td>22.731906</td>\n",
       "    </tr>\n",
       "    <tr>\n",
       "      <th>2</th>\n",
       "      <td>16.40</td>\n",
       "      <td>0.025</td>\n",
       "      <td>0.243</td>\n",
       "      <td>0.01640</td>\n",
       "      <td>1.270045</td>\n",
       "      <td>0.000353</td>\n",
       "      <td>25000.0</td>\n",
       "      <td>243000.0</td>\n",
       "      <td>1050.0</td>\n",
       "      <td>0.106316</td>\n",
       "      <td>0.280742</td>\n",
       "      <td>22.225663</td>\n",
       "    </tr>\n",
       "    <tr>\n",
       "      <th>3</th>\n",
       "      <td>32.78</td>\n",
       "      <td>0.024</td>\n",
       "      <td>0.245</td>\n",
       "      <td>0.03278</td>\n",
       "      <td>2.538541</td>\n",
       "      <td>0.000705</td>\n",
       "      <td>24000.0</td>\n",
       "      <td>245000.0</td>\n",
       "      <td>1102.0</td>\n",
       "      <td>0.212503</td>\n",
       "      <td>0.561141</td>\n",
       "      <td>22.541780</td>\n",
       "    </tr>\n",
       "    <tr>\n",
       "      <th>4</th>\n",
       "      <td>49.60</td>\n",
       "      <td>0.024</td>\n",
       "      <td>0.244</td>\n",
       "      <td>0.04960</td>\n",
       "      <td>3.841112</td>\n",
       "      <td>0.001067</td>\n",
       "      <td>24000.0</td>\n",
       "      <td>244000.0</td>\n",
       "      <td>1166.0</td>\n",
       "      <td>0.321542</td>\n",
       "      <td>0.849072</td>\n",
       "      <td>22.457571</td>\n",
       "    </tr>\n",
       "    <tr>\n",
       "      <th>5</th>\n",
       "      <td>65.54</td>\n",
       "      <td>0.024</td>\n",
       "      <td>0.243</td>\n",
       "      <td>0.06554</td>\n",
       "      <td>5.075533</td>\n",
       "      <td>0.001410</td>\n",
       "      <td>24000.0</td>\n",
       "      <td>243000.0</td>\n",
       "      <td>1238.0</td>\n",
       "      <td>0.424876</td>\n",
       "      <td>1.121939</td>\n",
       "      <td>22.379115</td>\n",
       "    </tr>\n",
       "  </tbody>\n",
       "</table>\n",
       "</div>"
      ],
      "text/plain": [
       "            voltage_mv  pressure_in_mpa  pressure_out_mpa  voltage_v  \\\n",
       "exp_number                                                             \n",
       "1                 0.00            0.025             0.248    0.00000   \n",
       "2                16.40            0.025             0.243    0.01640   \n",
       "3                32.78            0.024             0.245    0.03278   \n",
       "4                49.60            0.024             0.244    0.04960   \n",
       "5                65.54            0.024             0.243    0.06554   \n",
       "\n",
       "            flow_rate_m3h  flow_rate_m3s  pressure_in_pa  pressure_out_pa  \\\n",
       "exp_number                                                                  \n",
       "1                0.000000       0.000000         25000.0         248000.0   \n",
       "2                1.270045       0.000353         25000.0         243000.0   \n",
       "3                2.538541       0.000705         24000.0         245000.0   \n",
       "4                3.841112       0.001067         24000.0         244000.0   \n",
       "5                5.075533       0.001410         24000.0         243000.0   \n",
       "\n",
       "            power_w     c1_ms     c2_ms     head_m  \n",
       "exp_number                                          \n",
       "1            1018.0  0.000000  0.000000  22.731906  \n",
       "2            1050.0  0.106316  0.280742  22.225663  \n",
       "3            1102.0  0.212503  0.561141  22.541780  \n",
       "4            1166.0  0.321542  0.849072  22.457571  \n",
       "5            1238.0  0.424876  1.121939  22.379115  "
      ]
     },
     "execution_count": 68,
     "metadata": {},
     "output_type": "execute_result"
    }
   ],
   "source": [
    "experiment_data.head()"
   ]
  },
  {
   "cell_type": "code",
   "execution_count": 69,
   "metadata": {},
   "outputs": [
    {
     "data": {
      "text/plain": [
       "(44, 12)"
      ]
     },
     "execution_count": 69,
     "metadata": {},
     "output_type": "execute_result"
    }
   ],
   "source": [
    "experiment_data.shape  # no data were lost"
   ]
  },
  {
   "cell_type": "markdown",
   "metadata": {},
   "source": [
    "The last parameter that is needed is pump's efficiency"
   ]
  },
  {
   "cell_type": "code",
   "execution_count": 70,
   "metadata": {},
   "outputs": [],
   "source": [
    "experiment_data['efficiency'] = ((density * grav_accel * experiment_data.head_m * experiment_data.flow_rate_m3s) \\\n",
    "                                / (experiment_data.power_w * eta_el_mot))*100"
   ]
  },
  {
   "cell_type": "markdown",
   "metadata": {},
   "source": [
    "In order to keep data clean,  several columns needed to drop."
   ]
  },
  {
   "cell_type": "code",
   "execution_count": 71,
   "metadata": {},
   "outputs": [],
   "source": [
    "experiment_data = experiment_data.drop(['voltage_mv', 'pressure_in_mpa', 'pressure_out_mpa', 'voltage_v', 'flow_rate_m3s',\n",
    "                                       'c1_ms', 'c2_ms'], axis=1)"
   ]
  },
  {
   "cell_type": "code",
   "execution_count": 72,
   "metadata": {},
   "outputs": [
    {
     "data": {
      "text/html": [
       "<div>\n",
       "<style scoped>\n",
       "    .dataframe tbody tr th:only-of-type {\n",
       "        vertical-align: middle;\n",
       "    }\n",
       "\n",
       "    .dataframe tbody tr th {\n",
       "        vertical-align: top;\n",
       "    }\n",
       "\n",
       "    .dataframe thead th {\n",
       "        text-align: right;\n",
       "    }\n",
       "</style>\n",
       "<table border=\"1\" class=\"dataframe\">\n",
       "  <thead>\n",
       "    <tr style=\"text-align: right;\">\n",
       "      <th></th>\n",
       "      <th>flow_rate_m3h</th>\n",
       "      <th>pressure_in_pa</th>\n",
       "      <th>pressure_out_pa</th>\n",
       "      <th>power_w</th>\n",
       "      <th>head_m</th>\n",
       "      <th>efficiency</th>\n",
       "    </tr>\n",
       "    <tr>\n",
       "      <th>exp_number</th>\n",
       "      <th></th>\n",
       "      <th></th>\n",
       "      <th></th>\n",
       "      <th></th>\n",
       "      <th></th>\n",
       "      <th></th>\n",
       "    </tr>\n",
       "  </thead>\n",
       "  <tbody>\n",
       "    <tr>\n",
       "      <th>1</th>\n",
       "      <td>0.000000</td>\n",
       "      <td>25000.0</td>\n",
       "      <td>248000.0</td>\n",
       "      <td>1018.0</td>\n",
       "      <td>22.731906</td>\n",
       "      <td>0.000000</td>\n",
       "    </tr>\n",
       "    <tr>\n",
       "      <th>2</th>\n",
       "      <td>1.270045</td>\n",
       "      <td>25000.0</td>\n",
       "      <td>243000.0</td>\n",
       "      <td>1050.0</td>\n",
       "      <td>22.225663</td>\n",
       "      <td>8.608381</td>\n",
       "    </tr>\n",
       "    <tr>\n",
       "      <th>3</th>\n",
       "      <td>2.538541</td>\n",
       "      <td>24000.0</td>\n",
       "      <td>245000.0</td>\n",
       "      <td>1102.0</td>\n",
       "      <td>22.541780</td>\n",
       "      <td>16.627531</td>\n",
       "    </tr>\n",
       "    <tr>\n",
       "      <th>4</th>\n",
       "      <td>3.841112</td>\n",
       "      <td>24000.0</td>\n",
       "      <td>244000.0</td>\n",
       "      <td>1166.0</td>\n",
       "      <td>22.457571</td>\n",
       "      <td>23.689621</td>\n",
       "    </tr>\n",
       "    <tr>\n",
       "      <th>5</th>\n",
       "      <td>5.075533</td>\n",
       "      <td>24000.0</td>\n",
       "      <td>243000.0</td>\n",
       "      <td>1238.0</td>\n",
       "      <td>22.379115</td>\n",
       "      <td>29.379263</td>\n",
       "    </tr>\n",
       "  </tbody>\n",
       "</table>\n",
       "</div>"
      ],
      "text/plain": [
       "            flow_rate_m3h  pressure_in_pa  pressure_out_pa  power_w  \\\n",
       "exp_number                                                            \n",
       "1                0.000000         25000.0         248000.0   1018.0   \n",
       "2                1.270045         25000.0         243000.0   1050.0   \n",
       "3                2.538541         24000.0         245000.0   1102.0   \n",
       "4                3.841112         24000.0         244000.0   1166.0   \n",
       "5                5.075533         24000.0         243000.0   1238.0   \n",
       "\n",
       "               head_m  efficiency  \n",
       "exp_number                         \n",
       "1           22.731906    0.000000  \n",
       "2           22.225663    8.608381  \n",
       "3           22.541780   16.627531  \n",
       "4           22.457571   23.689621  \n",
       "5           22.379115   29.379263  "
      ]
     },
     "execution_count": 72,
     "metadata": {},
     "output_type": "execute_result"
    }
   ],
   "source": [
    "experiment_data.head()"
   ]
  },
  {
   "cell_type": "code",
   "execution_count": 73,
   "metadata": {},
   "outputs": [
    {
     "data": {
      "text/plain": [
       "(44, 6)"
      ]
     },
     "execution_count": 73,
     "metadata": {},
     "output_type": "execute_result"
    }
   ],
   "source": [
    "experiment_data.shape"
   ]
  },
  {
   "cell_type": "markdown",
   "metadata": {},
   "source": [
    "Now it is possible to make a pump's performance graph."
   ]
  },
  {
   "cell_type": "code",
   "execution_count": 74,
   "metadata": {},
   "outputs": [],
   "source": [
    "flow_rate = np.array(experiment_data['flow_rate_m3h'])\n",
    "efficiency = np.array(experiment_data['efficiency'])\n",
    "head = np.array(experiment_data['head_m'])"
   ]
  },
  {
   "cell_type": "code",
   "execution_count": 75,
   "metadata": {},
   "outputs": [
    {
     "data": {
      "image/png": "[encoded data removed]",
      "text/plain": [
       "<Figure size 842.4x595.44 with 2 Axes>"
      ]
     },
     "metadata": {
      "needs_background": "light"
     },
     "output_type": "display_data"
    }
   ],
   "source": [
    "a4_dims = (11.7, 8.27)  # addint the dimentions that will be used for the plot\n",
    "# create figure and axis objects with subplots()\n",
    "fig,ax = plt.subplots(figsize=a4_dims)\n",
    "# make a plot\n",
    "ax.plot(flow_rate, head, color=\"red\", marker=\"o\", linestyle='')\n",
    "# set x-axis label\n",
    "ax.set_xlabel(\"Q, m**3/hr\",fontsize=14)\n",
    "# set y-axis label\n",
    "ax.set_ylabel(\"H, m\",color=\"red\",fontsize=14)\n",
    "\n",
    "# twin object for two different y-axis on the sample plot\n",
    "ax2=ax.twinx()\n",
    "# make a plot with different y-axis using second axis object\n",
    "ax2.plot(flow_rate, efficiency,color=\"blue\",marker=\"o\", linestyle='')\n",
    "ax2.set_ylabel(\"eta, %\",color=\"blue\",fontsize=14)\n",
    "\n",
    "plt.show()\n",
    "# save the plot as a file\n",
    "fig.savefig('pump_performance.png',\n",
    "            format='png',\n",
    "            dpi=300,\n",
    "            bbox_inches='tight')\n"
   ]
  },
  {
   "cell_type": "markdown",
   "metadata": {},
   "source": [
    "Data about efficiency and head:"
   ]
  },
  {
   "cell_type": "code",
   "execution_count": 76,
   "metadata": {},
   "outputs": [
    {
     "name": "stdout",
     "output_type": "stream",
     "text": [
      "Maximum of head is 22.7 m, maximum of efficiency is 55.04%.\n",
      "Mean value of head is 19.55 m, and dispersion is 13.15\n"
     ]
    }
   ],
   "source": [
    "head_max = experiment_data.head_m.max()\n",
    "efficiency_max = experiment_data.efficiency.max()\n",
    "head_mean = experiment_data.head_m.mean()\n",
    "head_disp = experiment_data.head_m.var()\n",
    "\n",
    "print('Maximum of head is {a} m,'.format(a=round(head_max,1)) \\\n",
    "      + ' maximum of efficiency is {b}%.\\nMean value of head is {c} m, and dispersion is {d}'.format(b=round(efficiency_max,2),\n",
    "                                                                                                 c=round(head_mean,2),\n",
    "                                                                                                 d=round(head_disp,2)))"
   ]
  },
  {
   "cell_type": "markdown",
   "metadata": {},
   "source": [
    "Saving file as xlsx:"
   ]
  },
  {
   "cell_type": "code",
   "execution_count": 78,
   "metadata": {},
   "outputs": [],
   "source": [
    "experiment_data.to_excel('pump_performance.xlsx', sheet_name='pump_performance')"
   ]
  }
 ],
 "metadata": {
  "kernelspec": {
   "display_name": "Python 3",
   "language": "python",
   "name": "python3"
  },
  "language_info": {
   "codemirror_mode": {
    "name": "ipython",
    "version": 3
   },
   "file_extension": ".py",
   "mimetype": "text/x-python",
   "name": "python",
   "nbconvert_exporter": "python",
   "pygments_lexer": "ipython3",
   "version": "3.8.3"
  }
 },
 "nbformat": 4,
 "nbformat_minor": 4
}
